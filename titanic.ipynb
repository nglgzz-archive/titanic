{
 "cells": [
  {
   "cell_type": "markdown",
   "metadata": {},
   "source": [
    "# Investigate a Dataset : Titanic"
   ]
  },
  {
   "cell_type": "markdown",
   "metadata": {},
   "source": [
    "## Introduction\n",
    "This project consists on the analysis of the dataset containing demographics and passenger information of 891 of 2224 passengers and crew on board of the Titanic. The data is provided by [Kaggle](https://www.kaggle.com/c/titanic/data) and a description of its structure can be found there. \n",
    "\n",
    "The question for the analysis suggested in the project details was *What factors made people more likely to survive?*, it seems indeed one of the most interesting questions one could ask about a disaster, however I'm gonna be a little more specific and try to focus on the following questions: Is there a difference on survival rate between different *classes*?, Who was more likely to survive, *males or females*?, Is there a particular *age range* that tended to survive most? and How did survival rate change across different *decks* of the ship?."
   ]
  },
  {
   "cell_type": "markdown",
   "metadata": {},
   "source": [
    "## Wrangling\n",
    "The dataset is provided in the form of a csv file, to be able to use it in the easiest and most efficient way using Python I converted it into a Pandas DataFrame.\n",
    "\n",
    "I also printed the first rows of the DataFrame to have a look at the different column names and at the kind of variable they contain. "
   ]
  },
  {
   "cell_type": "code",
   "execution_count": 1,
   "metadata": {
    "collapsed": false
   },
   "outputs": [
    {
     "data": {
      "text/html": [
       "<div>\n",
       "<table border=\"1\" class=\"dataframe\">\n",
       "  <thead>\n",
       "    <tr style=\"text-align: right;\">\n",
       "      <th></th>\n",
       "      <th>PassengerId</th>\n",
       "      <th>Survived</th>\n",
       "      <th>Pclass</th>\n",
       "      <th>Name</th>\n",
       "      <th>Sex</th>\n",
       "      <th>Age</th>\n",
       "      <th>SibSp</th>\n",
       "      <th>Parch</th>\n",
       "      <th>Ticket</th>\n",
       "      <th>Fare</th>\n",
       "      <th>Cabin</th>\n",
       "      <th>Embarked</th>\n",
       "    </tr>\n",
       "  </thead>\n",
       "  <tbody>\n",
       "    <tr>\n",
       "      <th>0</th>\n",
       "      <td>1</td>\n",
       "      <td>0</td>\n",
       "      <td>3</td>\n",
       "      <td>Braund, Mr. Owen Harris</td>\n",
       "      <td>male</td>\n",
       "      <td>22</td>\n",
       "      <td>1</td>\n",
       "      <td>0</td>\n",
       "      <td>A/5 21171</td>\n",
       "      <td>7.2500</td>\n",
       "      <td>NaN</td>\n",
       "      <td>S</td>\n",
       "    </tr>\n",
       "    <tr>\n",
       "      <th>1</th>\n",
       "      <td>2</td>\n",
       "      <td>1</td>\n",
       "      <td>1</td>\n",
       "      <td>Cumings, Mrs. John Bradley (Florence Briggs Th...</td>\n",
       "      <td>female</td>\n",
       "      <td>38</td>\n",
       "      <td>1</td>\n",
       "      <td>0</td>\n",
       "      <td>PC 17599</td>\n",
       "      <td>71.2833</td>\n",
       "      <td>C85</td>\n",
       "      <td>C</td>\n",
       "    </tr>\n",
       "    <tr>\n",
       "      <th>2</th>\n",
       "      <td>3</td>\n",
       "      <td>1</td>\n",
       "      <td>3</td>\n",
       "      <td>Heikkinen, Miss. Laina</td>\n",
       "      <td>female</td>\n",
       "      <td>26</td>\n",
       "      <td>0</td>\n",
       "      <td>0</td>\n",
       "      <td>STON/O2. 3101282</td>\n",
       "      <td>7.9250</td>\n",
       "      <td>NaN</td>\n",
       "      <td>S</td>\n",
       "    </tr>\n",
       "    <tr>\n",
       "      <th>3</th>\n",
       "      <td>4</td>\n",
       "      <td>1</td>\n",
       "      <td>1</td>\n",
       "      <td>Futrelle, Mrs. Jacques Heath (Lily May Peel)</td>\n",
       "      <td>female</td>\n",
       "      <td>35</td>\n",
       "      <td>1</td>\n",
       "      <td>0</td>\n",
       "      <td>113803</td>\n",
       "      <td>53.1000</td>\n",
       "      <td>C123</td>\n",
       "      <td>S</td>\n",
       "    </tr>\n",
       "    <tr>\n",
       "      <th>4</th>\n",
       "      <td>5</td>\n",
       "      <td>0</td>\n",
       "      <td>3</td>\n",
       "      <td>Allen, Mr. William Henry</td>\n",
       "      <td>male</td>\n",
       "      <td>35</td>\n",
       "      <td>0</td>\n",
       "      <td>0</td>\n",
       "      <td>373450</td>\n",
       "      <td>8.0500</td>\n",
       "      <td>NaN</td>\n",
       "      <td>S</td>\n",
       "    </tr>\n",
       "  </tbody>\n",
       "</table>\n",
       "</div>"
      ],
      "text/plain": [
       "   PassengerId  Survived  Pclass  \\\n",
       "0            1         0       3   \n",
       "1            2         1       1   \n",
       "2            3         1       3   \n",
       "3            4         1       1   \n",
       "4            5         0       3   \n",
       "\n",
       "                                                Name     Sex  Age  SibSp  \\\n",
       "0                            Braund, Mr. Owen Harris    male   22      1   \n",
       "1  Cumings, Mrs. John Bradley (Florence Briggs Th...  female   38      1   \n",
       "2                             Heikkinen, Miss. Laina  female   26      0   \n",
       "3       Futrelle, Mrs. Jacques Heath (Lily May Peel)  female   35      1   \n",
       "4                           Allen, Mr. William Henry    male   35      0   \n",
       "\n",
       "   Parch            Ticket     Fare Cabin Embarked  \n",
       "0      0         A/5 21171   7.2500   NaN        S  \n",
       "1      0          PC 17599  71.2833   C85        C  \n",
       "2      0  STON/O2. 3101282   7.9250   NaN        S  \n",
       "3      0            113803  53.1000  C123        S  \n",
       "4      0            373450   8.0500   NaN        S  "
      ]
     },
     "execution_count": 1,
     "metadata": {},
     "output_type": "execute_result"
    }
   ],
   "source": [
    "import pandas as pd\n",
    "import numpy  as np\n",
    "\n",
    "df = pd.read_csv(\"titanic_data.csv\") # load the data into a dataframe using Pandas \n",
    "                                     # built-in function read_csv\n",
    "df.head()"
   ]
  },
  {
   "cell_type": "markdown",
   "metadata": {},
   "source": [
    "For the sake of order, I changed some column names in order to follow the CamelCase convention that seemed to be followed by most columns and then I converted the *Survived* column type to bool, which will simplify its use later on."
   ]
  },
  {
   "cell_type": "code",
   "execution_count": 2,
   "metadata": {
    "collapsed": true
   },
   "outputs": [],
   "source": [
    "df = df.rename(columns={\"Parch\":\"ParCh\", \"Pclass\":\"PClass\"})\n",
    "df.loc[:,\"Survived\"] = df[\"Survived\"].astype(bool)"
   ]
  },
  {
   "cell_type": "markdown",
   "metadata": {},
   "source": [
    "From this point I proceded creating a different DataFrame for each question in order to always use the highest number possible of meaningful rows, and in case all the rows of the original DataFrame were meaningful (they contained valid data) I just kept the original. \n",
    "\n",
    "#### Classes\n",
    "The DataFrame to answer the first question needed to contain all the rows where the column *PClass* is specified (i.e. is not null). Before proceding with the creation of the new DataFrame I counted all the invalid rows to check wether or not it was necessary to create it.\n",
    "\n",
    "To count the invalid rows I first called the isnull() method on the *PClass* column, which returned a boolean Series of same lenght as the *PClass* column with True values where the column contained a null value and False otherwise. Then from this Series I called sum() that summed all the values, counting Falses as 0s and Trues as 1s.\n",
    "\n",
    "In this case the sum() method returned 0, so I didn't need to create a new DataFrame to answer the question about passenger classes, since all the rows of the original one were valid to answer the question."
   ]
  },
  {
   "cell_type": "code",
   "execution_count": 3,
   "metadata": {
    "collapsed": false
   },
   "outputs": [
    {
     "name": "stdout",
     "output_type": "stream",
     "text": [
      "Null PClass count:  0\n"
     ]
    }
   ],
   "source": [
    "print \"Null PClass count: \", df[\"PClass\"].isnull().sum()"
   ]
  },
  {
   "cell_type": "markdown",
   "metadata": {
    "collapsed": false,
    "scrolled": true
   },
   "source": [
    "#### Gender\n",
    "Here I used the same procedure I used for *PClass*, but this time on the *Sex* column, to check wheter or not I needed to create a new DataFrame, and again I didn't need to."
   ]
  },
  {
   "cell_type": "code",
   "execution_count": 4,
   "metadata": {
    "collapsed": false
   },
   "outputs": [
    {
     "name": "stdout",
     "output_type": "stream",
     "text": [
      "Null gender count:  0\n"
     ]
    }
   ],
   "source": [
    "print \"Null gender count: \", df[\"Sex\"].isnull().sum()"
   ]
  },
  {
   "cell_type": "markdown",
   "metadata": {},
   "source": [
    "#### Ages\n",
    "This time after counting the number of invalid rows (177) I realized I needed a new DataFrame containing just the rows with an *Age* value different than NaN.\n",
    "\n",
    "So I proceded creating the new DataFrame by dropping from the original one all the rows containing NaNs on the *Age* column. I then printed the lenghts of the original and the new DataFrame just as a control measure."
   ]
  },
  {
   "cell_type": "code",
   "execution_count": 5,
   "metadata": {
    "collapsed": false
   },
   "outputs": [
    {
     "name": "stdout",
     "output_type": "stream",
     "text": [
      "Null age count:  177\n",
      "Passengers count:  891\n",
      "Known age passengers count:  714\n"
     ]
    }
   ],
   "source": [
    "print \"Null age count: \", df[\"Age\"].isnull().sum()\n",
    "\n",
    "known_age_passengers = df.dropna(subset = [\"Age\"])\n",
    "print \"Passengers count: \", len(df)\n",
    "print \"Known age passengers count: \", len(known_age_passengers)"
   ]
  },
  {
   "cell_type": "markdown",
   "metadata": {
    "collapsed": false,
    "scrolled": true
   },
   "source": [
    "#### Decks\n",
    "This time the invalid rows count was pretty high (687), and as before I created a new DataFrame taking into account the *Cabin* column."
   ]
  },
  {
   "cell_type": "code",
   "execution_count": 6,
   "metadata": {
    "collapsed": false
   },
   "outputs": [
    {
     "name": "stdout",
     "output_type": "stream",
     "text": [
      "Null cabin count:  687\n",
      "Passengers count:  891\n",
      "Known cabin passengers count:  204\n"
     ]
    }
   ],
   "source": [
    "print \"Null cabin count: \", df[\"Cabin\"].isnull().sum()\n",
    "\n",
    "known_cabin_passengers = df.dropna(subset = [\"Cabin\"])\n",
    "print \"Passengers count: \", len(df)\n",
    "print \"Known cabin passengers count: \", len(known_cabin_passengers)"
   ]
  },
  {
   "cell_type": "markdown",
   "metadata": {},
   "source": [
    "However here it wasn't enough just removing the invalid rows, becasue I was interested in the deck letters, while the cabins at the moment contain a string formed by the concatenation of the deck letter and the cabin number, and in some cases there's multiple cabin codes separated by a whitespace.\n",
    "\n",
    "The first think I needed to do, was splitting the rows containing more than one cabin. I did that by creating a Series containing a list for each row of the *Cabin* column, creating a DataFrame out of this Series of lists, stacking it (which returns another Series), and finally replacing the original column with the obtained Series."
   ]
  },
  {
   "cell_type": "code",
   "execution_count": 7,
   "metadata": {
    "collapsed": false,
    "scrolled": true
   },
   "outputs": [],
   "source": [
    "split_cabins = known_cabin_passengers[\"Cabin\"].str.split(\" \") # create a Series containing lists of cabins\n",
    "split_cabins = split_cabins.apply(pd.Series, 1).stack() # split the lists in multiple rows \n",
    "split_cabins.index = split_cabins.index.droplevel(-1) # remove the extra index column\n",
    "split_cabins.name = \"Cabin\"\n",
    "\n",
    "del known_cabin_passengers[\"Cabin\"] # delete the original column\n",
    "known_cabin_passengers = known_cabin_passengers.join(split_cabins) # insert the new column"
   ]
  },
  {
   "cell_type": "markdown",
   "metadata": {},
   "source": [
    "After that, I needed to split this new column into two different columns, one for the deck letter and another one for the cabin number. So I created two Series one containing the first letter of each string in the *Cabin* column (because the deck is always the first letter of the cabin code) and the other one containing the remaining part of the string. I then replaced the original column with these two Series."
   ]
  },
  {
   "cell_type": "code",
   "execution_count": 8,
   "metadata": {
    "collapsed": false,
    "scrolled": true
   },
   "outputs": [],
   "source": [
    "decks = known_cabin_passengers[\"Cabin\"].str[0]\n",
    "decks.name = \"Deck\"\n",
    "\n",
    "cabins = known_cabin_passengers[\"Cabin\"].str[1:]\n",
    "cabins.name = \"Cabin\"\n",
    "\n",
    "del known_cabin_passengers[\"Cabin\"]\n",
    "known_cabin_passengers = pd.concat([known_cabin_passengers, decks, cabins], join=\"inner\", axis=1)"
   ]
  },
  {
   "cell_type": "markdown",
   "metadata": {},
   "source": [
    "Here's how the new DataFrame for the decks question looks like."
   ]
  },
  {
   "cell_type": "code",
   "execution_count": 9,
   "metadata": {
    "collapsed": false
   },
   "outputs": [
    {
     "data": {
      "text/html": [
       "<div>\n",
       "<table border=\"1\" class=\"dataframe\">\n",
       "  <thead>\n",
       "    <tr style=\"text-align: right;\">\n",
       "      <th></th>\n",
       "      <th>PassengerId</th>\n",
       "      <th>Survived</th>\n",
       "      <th>PClass</th>\n",
       "      <th>Name</th>\n",
       "      <th>Sex</th>\n",
       "      <th>Age</th>\n",
       "      <th>SibSp</th>\n",
       "      <th>ParCh</th>\n",
       "      <th>Ticket</th>\n",
       "      <th>Fare</th>\n",
       "      <th>Embarked</th>\n",
       "      <th>Deck</th>\n",
       "      <th>Cabin</th>\n",
       "    </tr>\n",
       "  </thead>\n",
       "  <tbody>\n",
       "    <tr>\n",
       "      <th>1</th>\n",
       "      <td>2</td>\n",
       "      <td>True</td>\n",
       "      <td>1</td>\n",
       "      <td>Cumings, Mrs. John Bradley (Florence Briggs Th...</td>\n",
       "      <td>female</td>\n",
       "      <td>38</td>\n",
       "      <td>1</td>\n",
       "      <td>0</td>\n",
       "      <td>PC 17599</td>\n",
       "      <td>71.2833</td>\n",
       "      <td>C</td>\n",
       "      <td>C</td>\n",
       "      <td>85</td>\n",
       "    </tr>\n",
       "    <tr>\n",
       "      <th>3</th>\n",
       "      <td>4</td>\n",
       "      <td>True</td>\n",
       "      <td>1</td>\n",
       "      <td>Futrelle, Mrs. Jacques Heath (Lily May Peel)</td>\n",
       "      <td>female</td>\n",
       "      <td>35</td>\n",
       "      <td>1</td>\n",
       "      <td>0</td>\n",
       "      <td>113803</td>\n",
       "      <td>53.1000</td>\n",
       "      <td>S</td>\n",
       "      <td>C</td>\n",
       "      <td>123</td>\n",
       "    </tr>\n",
       "    <tr>\n",
       "      <th>6</th>\n",
       "      <td>7</td>\n",
       "      <td>False</td>\n",
       "      <td>1</td>\n",
       "      <td>McCarthy, Mr. Timothy J</td>\n",
       "      <td>male</td>\n",
       "      <td>54</td>\n",
       "      <td>0</td>\n",
       "      <td>0</td>\n",
       "      <td>17463</td>\n",
       "      <td>51.8625</td>\n",
       "      <td>S</td>\n",
       "      <td>E</td>\n",
       "      <td>46</td>\n",
       "    </tr>\n",
       "    <tr>\n",
       "      <th>10</th>\n",
       "      <td>11</td>\n",
       "      <td>True</td>\n",
       "      <td>3</td>\n",
       "      <td>Sandstrom, Miss. Marguerite Rut</td>\n",
       "      <td>female</td>\n",
       "      <td>4</td>\n",
       "      <td>1</td>\n",
       "      <td>1</td>\n",
       "      <td>PP 9549</td>\n",
       "      <td>16.7000</td>\n",
       "      <td>S</td>\n",
       "      <td>G</td>\n",
       "      <td>6</td>\n",
       "    </tr>\n",
       "    <tr>\n",
       "      <th>11</th>\n",
       "      <td>12</td>\n",
       "      <td>True</td>\n",
       "      <td>1</td>\n",
       "      <td>Bonnell, Miss. Elizabeth</td>\n",
       "      <td>female</td>\n",
       "      <td>58</td>\n",
       "      <td>0</td>\n",
       "      <td>0</td>\n",
       "      <td>113783</td>\n",
       "      <td>26.5500</td>\n",
       "      <td>S</td>\n",
       "      <td>C</td>\n",
       "      <td>103</td>\n",
       "    </tr>\n",
       "  </tbody>\n",
       "</table>\n",
       "</div>"
      ],
      "text/plain": [
       "    PassengerId Survived  PClass  \\\n",
       "1             2     True       1   \n",
       "3             4     True       1   \n",
       "6             7    False       1   \n",
       "10           11     True       3   \n",
       "11           12     True       1   \n",
       "\n",
       "                                                 Name     Sex  Age  SibSp  \\\n",
       "1   Cumings, Mrs. John Bradley (Florence Briggs Th...  female   38      1   \n",
       "3        Futrelle, Mrs. Jacques Heath (Lily May Peel)  female   35      1   \n",
       "6                             McCarthy, Mr. Timothy J    male   54      0   \n",
       "10                    Sandstrom, Miss. Marguerite Rut  female    4      1   \n",
       "11                           Bonnell, Miss. Elizabeth  female   58      0   \n",
       "\n",
       "    ParCh    Ticket     Fare Embarked Deck Cabin  \n",
       "1       0  PC 17599  71.2833        C    C    85  \n",
       "3       0    113803  53.1000        S    C   123  \n",
       "6       0     17463  51.8625        S    E    46  \n",
       "10      1   PP 9549  16.7000        S    G     6  \n",
       "11      0    113783  26.5500        S    C   103  "
      ]
     },
     "execution_count": 9,
     "metadata": {},
     "output_type": "execute_result"
    }
   ],
   "source": [
    "known_cabin_passengers.head()"
   ]
  },
  {
   "cell_type": "markdown",
   "metadata": {},
   "source": [
    "## Exploration\n",
    "Here I adressed the questions I asked in the introduction, and I answered them based on the data, I also made some visualizations to help understanding the given numbers."
   ]
  },
  {
   "cell_type": "code",
   "execution_count": 10,
   "metadata": {
    "collapsed": false
   },
   "outputs": [
    {
     "name": "stderr",
     "output_type": "stream",
     "text": [
      "/home/zxcv/anaconda2/lib/python2.7/site-packages/matplotlib/__init__.py:872: UserWarning: axes.color_cycle is deprecated and replaced with axes.prop_cycle; please use the latter.\n",
      "  warnings.warn(self.msg_depr % (key, alt_key))\n"
     ]
    }
   ],
   "source": [
    "# here I just imported the libraries I used later on for the visualization\n",
    "import matplotlib.pyplot as plt\n",
    "import seaborn as sbs\n",
    "%matplotlib inline\n",
    "\n",
    "import matplotlib.patches as mpatches\n",
    "from matplotlib.collections import PatchCollection"
   ]
  },
  {
   "cell_type": "markdown",
   "metadata": {},
   "source": [
    "#### Is there a difference on survival rate between different classes?\n",
    "According to the data aproximately 55% of the passengers were travelling in 3rd class, 24% in 2nd class and the remaining 21% in 1st class.\n",
    "\n",
    "It's interesting to notice how the mean *Age* changes between different classes, with its lowest value in 3rd class (25.14) and its highest in 1st class (38.23). I'd suppose that's due to 3rd class passengers mostly being big families with many small children, and the mean *ParCh* and *SibSp* values also suggest that, since they are higest in 3rd class (*ParCh* = 0.393, *SibSp* = 0.615) and lowest in 1st (*ParCh* = 0.356) or 2nd class (*SibSp* = 0.402)."
   ]
  },
  {
   "cell_type": "code",
   "execution_count": 11,
   "metadata": {
    "collapsed": false
   },
   "outputs": [
    {
     "data": {
      "text/html": [
       "<div>\n",
       "<table border=\"1\" class=\"dataframe\">\n",
       "  <thead>\n",
       "    <tr style=\"text-align: right;\">\n",
       "      <th></th>\n",
       "      <th></th>\n",
       "      <th>Age</th>\n",
       "      <th>Fare</th>\n",
       "      <th>ParCh</th>\n",
       "      <th>PassengerId</th>\n",
       "      <th>SibSp</th>\n",
       "      <th>Survived</th>\n",
       "    </tr>\n",
       "    <tr>\n",
       "      <th>PClass</th>\n",
       "      <th></th>\n",
       "      <th></th>\n",
       "      <th></th>\n",
       "      <th></th>\n",
       "      <th></th>\n",
       "      <th></th>\n",
       "      <th></th>\n",
       "    </tr>\n",
       "  </thead>\n",
       "  <tbody>\n",
       "    <tr>\n",
       "      <th rowspan=\"8\" valign=\"top\">1</th>\n",
       "      <th>count</th>\n",
       "      <td>186.000000</td>\n",
       "      <td>216.000000</td>\n",
       "      <td>216.000000</td>\n",
       "      <td>216.000000</td>\n",
       "      <td>216.000000</td>\n",
       "      <td>216</td>\n",
       "    </tr>\n",
       "    <tr>\n",
       "      <th>mean</th>\n",
       "      <td>38.233441</td>\n",
       "      <td>84.154687</td>\n",
       "      <td>0.356481</td>\n",
       "      <td>461.597222</td>\n",
       "      <td>0.416667</td>\n",
       "      <td>0.62963</td>\n",
       "    </tr>\n",
       "    <tr>\n",
       "      <th>std</th>\n",
       "      <td>14.802856</td>\n",
       "      <td>78.380373</td>\n",
       "      <td>0.693997</td>\n",
       "      <td>246.737616</td>\n",
       "      <td>0.611898</td>\n",
       "      <td>0.484026</td>\n",
       "    </tr>\n",
       "    <tr>\n",
       "      <th>min</th>\n",
       "      <td>0.920000</td>\n",
       "      <td>0.000000</td>\n",
       "      <td>0.000000</td>\n",
       "      <td>2.000000</td>\n",
       "      <td>0.000000</td>\n",
       "      <td>False</td>\n",
       "    </tr>\n",
       "    <tr>\n",
       "      <th>25%</th>\n",
       "      <td>27.000000</td>\n",
       "      <td>30.923950</td>\n",
       "      <td>0.000000</td>\n",
       "      <td>270.750000</td>\n",
       "      <td>0.000000</td>\n",
       "      <td>0</td>\n",
       "    </tr>\n",
       "    <tr>\n",
       "      <th>50%</th>\n",
       "      <td>37.000000</td>\n",
       "      <td>60.287500</td>\n",
       "      <td>0.000000</td>\n",
       "      <td>472.000000</td>\n",
       "      <td>0.000000</td>\n",
       "      <td>1</td>\n",
       "    </tr>\n",
       "    <tr>\n",
       "      <th>75%</th>\n",
       "      <td>49.000000</td>\n",
       "      <td>93.500000</td>\n",
       "      <td>0.000000</td>\n",
       "      <td>670.500000</td>\n",
       "      <td>1.000000</td>\n",
       "      <td>1</td>\n",
       "    </tr>\n",
       "    <tr>\n",
       "      <th>max</th>\n",
       "      <td>80.000000</td>\n",
       "      <td>512.329200</td>\n",
       "      <td>4.000000</td>\n",
       "      <td>890.000000</td>\n",
       "      <td>3.000000</td>\n",
       "      <td>True</td>\n",
       "    </tr>\n",
       "    <tr>\n",
       "      <th rowspan=\"8\" valign=\"top\">2</th>\n",
       "      <th>count</th>\n",
       "      <td>173.000000</td>\n",
       "      <td>184.000000</td>\n",
       "      <td>184.000000</td>\n",
       "      <td>184.000000</td>\n",
       "      <td>184.000000</td>\n",
       "      <td>184</td>\n",
       "    </tr>\n",
       "    <tr>\n",
       "      <th>mean</th>\n",
       "      <td>29.877630</td>\n",
       "      <td>20.662183</td>\n",
       "      <td>0.380435</td>\n",
       "      <td>445.956522</td>\n",
       "      <td>0.402174</td>\n",
       "      <td>0.472826</td>\n",
       "    </tr>\n",
       "    <tr>\n",
       "      <th>std</th>\n",
       "      <td>14.001077</td>\n",
       "      <td>13.417399</td>\n",
       "      <td>0.690963</td>\n",
       "      <td>250.852161</td>\n",
       "      <td>0.601633</td>\n",
       "      <td>0.500623</td>\n",
       "    </tr>\n",
       "    <tr>\n",
       "      <th>min</th>\n",
       "      <td>0.670000</td>\n",
       "      <td>0.000000</td>\n",
       "      <td>0.000000</td>\n",
       "      <td>10.000000</td>\n",
       "      <td>0.000000</td>\n",
       "      <td>False</td>\n",
       "    </tr>\n",
       "    <tr>\n",
       "      <th>25%</th>\n",
       "      <td>23.000000</td>\n",
       "      <td>13.000000</td>\n",
       "      <td>0.000000</td>\n",
       "      <td>234.500000</td>\n",
       "      <td>0.000000</td>\n",
       "      <td>0</td>\n",
       "    </tr>\n",
       "    <tr>\n",
       "      <th>50%</th>\n",
       "      <td>29.000000</td>\n",
       "      <td>14.250000</td>\n",
       "      <td>0.000000</td>\n",
       "      <td>435.500000</td>\n",
       "      <td>0.000000</td>\n",
       "      <td>0</td>\n",
       "    </tr>\n",
       "    <tr>\n",
       "      <th>75%</th>\n",
       "      <td>36.000000</td>\n",
       "      <td>26.000000</td>\n",
       "      <td>1.000000</td>\n",
       "      <td>668.000000</td>\n",
       "      <td>1.000000</td>\n",
       "      <td>1</td>\n",
       "    </tr>\n",
       "    <tr>\n",
       "      <th>max</th>\n",
       "      <td>70.000000</td>\n",
       "      <td>73.500000</td>\n",
       "      <td>3.000000</td>\n",
       "      <td>887.000000</td>\n",
       "      <td>3.000000</td>\n",
       "      <td>True</td>\n",
       "    </tr>\n",
       "    <tr>\n",
       "      <th rowspan=\"8\" valign=\"top\">3</th>\n",
       "      <th>count</th>\n",
       "      <td>355.000000</td>\n",
       "      <td>491.000000</td>\n",
       "      <td>491.000000</td>\n",
       "      <td>491.000000</td>\n",
       "      <td>491.000000</td>\n",
       "      <td>491</td>\n",
       "    </tr>\n",
       "    <tr>\n",
       "      <th>mean</th>\n",
       "      <td>25.140620</td>\n",
       "      <td>13.675550</td>\n",
       "      <td>0.393075</td>\n",
       "      <td>439.154786</td>\n",
       "      <td>0.615071</td>\n",
       "      <td>0.242363</td>\n",
       "    </tr>\n",
       "    <tr>\n",
       "      <th>std</th>\n",
       "      <td>12.495398</td>\n",
       "      <td>11.778142</td>\n",
       "      <td>0.888861</td>\n",
       "      <td>264.441453</td>\n",
       "      <td>1.374883</td>\n",
       "      <td>0.428949</td>\n",
       "    </tr>\n",
       "    <tr>\n",
       "      <th>min</th>\n",
       "      <td>0.420000</td>\n",
       "      <td>0.000000</td>\n",
       "      <td>0.000000</td>\n",
       "      <td>1.000000</td>\n",
       "      <td>0.000000</td>\n",
       "      <td>False</td>\n",
       "    </tr>\n",
       "    <tr>\n",
       "      <th>25%</th>\n",
       "      <td>18.000000</td>\n",
       "      <td>7.750000</td>\n",
       "      <td>0.000000</td>\n",
       "      <td>200.000000</td>\n",
       "      <td>0.000000</td>\n",
       "      <td>0</td>\n",
       "    </tr>\n",
       "    <tr>\n",
       "      <th>50%</th>\n",
       "      <td>24.000000</td>\n",
       "      <td>8.050000</td>\n",
       "      <td>0.000000</td>\n",
       "      <td>432.000000</td>\n",
       "      <td>0.000000</td>\n",
       "      <td>0</td>\n",
       "    </tr>\n",
       "    <tr>\n",
       "      <th>75%</th>\n",
       "      <td>32.000000</td>\n",
       "      <td>15.500000</td>\n",
       "      <td>0.000000</td>\n",
       "      <td>666.500000</td>\n",
       "      <td>1.000000</td>\n",
       "      <td>0</td>\n",
       "    </tr>\n",
       "    <tr>\n",
       "      <th>max</th>\n",
       "      <td>74.000000</td>\n",
       "      <td>69.550000</td>\n",
       "      <td>6.000000</td>\n",
       "      <td>891.000000</td>\n",
       "      <td>8.000000</td>\n",
       "      <td>True</td>\n",
       "    </tr>\n",
       "  </tbody>\n",
       "</table>\n",
       "</div>"
      ],
      "text/plain": [
       "                     Age        Fare       ParCh  PassengerId       SibSp  \\\n",
       "PClass                                                                      \n",
       "1      count  186.000000  216.000000  216.000000   216.000000  216.000000   \n",
       "       mean    38.233441   84.154687    0.356481   461.597222    0.416667   \n",
       "       std     14.802856   78.380373    0.693997   246.737616    0.611898   \n",
       "       min      0.920000    0.000000    0.000000     2.000000    0.000000   \n",
       "       25%     27.000000   30.923950    0.000000   270.750000    0.000000   \n",
       "       50%     37.000000   60.287500    0.000000   472.000000    0.000000   \n",
       "       75%     49.000000   93.500000    0.000000   670.500000    1.000000   \n",
       "       max     80.000000  512.329200    4.000000   890.000000    3.000000   \n",
       "2      count  173.000000  184.000000  184.000000   184.000000  184.000000   \n",
       "       mean    29.877630   20.662183    0.380435   445.956522    0.402174   \n",
       "       std     14.001077   13.417399    0.690963   250.852161    0.601633   \n",
       "       min      0.670000    0.000000    0.000000    10.000000    0.000000   \n",
       "       25%     23.000000   13.000000    0.000000   234.500000    0.000000   \n",
       "       50%     29.000000   14.250000    0.000000   435.500000    0.000000   \n",
       "       75%     36.000000   26.000000    1.000000   668.000000    1.000000   \n",
       "       max     70.000000   73.500000    3.000000   887.000000    3.000000   \n",
       "3      count  355.000000  491.000000  491.000000   491.000000  491.000000   \n",
       "       mean    25.140620   13.675550    0.393075   439.154786    0.615071   \n",
       "       std     12.495398   11.778142    0.888861   264.441453    1.374883   \n",
       "       min      0.420000    0.000000    0.000000     1.000000    0.000000   \n",
       "       25%     18.000000    7.750000    0.000000   200.000000    0.000000   \n",
       "       50%     24.000000    8.050000    0.000000   432.000000    0.000000   \n",
       "       75%     32.000000   15.500000    0.000000   666.500000    1.000000   \n",
       "       max     74.000000   69.550000    6.000000   891.000000    8.000000   \n",
       "\n",
       "              Survived  \n",
       "PClass                  \n",
       "1      count       216  \n",
       "       mean    0.62963  \n",
       "       std    0.484026  \n",
       "       min       False  \n",
       "       25%           0  \n",
       "       50%           1  \n",
       "       75%           1  \n",
       "       max        True  \n",
       "2      count       184  \n",
       "       mean   0.472826  \n",
       "       std    0.500623  \n",
       "       min       False  \n",
       "       25%           0  \n",
       "       50%           0  \n",
       "       75%           1  \n",
       "       max        True  \n",
       "3      count       491  \n",
       "       mean   0.242363  \n",
       "       std    0.428949  \n",
       "       min       False  \n",
       "       25%           0  \n",
       "       50%           0  \n",
       "       75%           0  \n",
       "       max        True  "
      ]
     },
     "execution_count": 11,
     "metadata": {},
     "output_type": "execute_result"
    }
   ],
   "source": [
    "passengers_by_class = df.groupby(\"PClass\")\n",
    "passengers_by_class.describe()"
   ]
  },
  {
   "cell_type": "markdown",
   "metadata": {},
   "source": [
    "Also the *Survived* rate differs quite a lot between different classes. The first class passengers had the highest survival rate (.63), followed by the 2nd class (.47) and the 3rd class (.24).\n",
    "\n",
    "Each bar of the plot below represents the total number of passengers for each class, and each bar it's split into two parts showing the number of passengers survived and perished. Here it can be noticed how even though the 3rd class had the great majority of the passengers on board, they had the lowest survival rate."
   ]
  },
  {
   "cell_type": "code",
   "execution_count": 12,
   "metadata": {
    "collapsed": false
   },
   "outputs": [
    {
     "data": {
      "text/plain": [
       "<matplotlib.legend.Legend at 0x7fc99cf81d10>"
      ]
     },
     "execution_count": 12,
     "metadata": {},
     "output_type": "execute_result"
    },
    {
     "data": {
      "image/png": "[encoded data removed]",
      "text/plain": [
       "<matplotlib.figure.Figure at 0x7fc98e3776d0>"
      ]
     },
     "metadata": {},
     "output_type": "display_data"
    }
   ],
   "source": [
    "pbc_total = passengers_by_class[\"Survived\"].count()\n",
    "pbc_survived = passengers_by_class[\"Survived\"].sum()\n",
    "\n",
    "pbc_total.plot(kind=\"bar\", color=\"r\", label=\"Not Survived\")\n",
    "pbc_survived.plot(kind=\"bar\", color=\"g\", label=\"Survived\")\n",
    "plt.legend(loc=2)"
   ]
  },
  {
   "cell_type": "markdown",
   "metadata": {},
   "source": [
    "#### Who was more likely to survive, males or females?\n",
    "Most of the passengers were males (65%), and the average age for males was 30.7, while for females it was 27.9."
   ]
  },
  {
   "cell_type": "code",
   "execution_count": 13,
   "metadata": {
    "collapsed": false
   },
   "outputs": [
    {
     "data": {
      "text/html": [
       "<div>\n",
       "<table border=\"1\" class=\"dataframe\">\n",
       "  <thead>\n",
       "    <tr style=\"text-align: right;\">\n",
       "      <th></th>\n",
       "      <th></th>\n",
       "      <th>Age</th>\n",
       "      <th>Fare</th>\n",
       "      <th>PClass</th>\n",
       "      <th>ParCh</th>\n",
       "      <th>PassengerId</th>\n",
       "      <th>SibSp</th>\n",
       "      <th>Survived</th>\n",
       "    </tr>\n",
       "    <tr>\n",
       "      <th>Sex</th>\n",
       "      <th></th>\n",
       "      <th></th>\n",
       "      <th></th>\n",
       "      <th></th>\n",
       "      <th></th>\n",
       "      <th></th>\n",
       "      <th></th>\n",
       "      <th></th>\n",
       "    </tr>\n",
       "  </thead>\n",
       "  <tbody>\n",
       "    <tr>\n",
       "      <th rowspan=\"8\" valign=\"top\">female</th>\n",
       "      <th>count</th>\n",
       "      <td>261.000000</td>\n",
       "      <td>314.000000</td>\n",
       "      <td>314.000000</td>\n",
       "      <td>314.000000</td>\n",
       "      <td>314.000000</td>\n",
       "      <td>314.000000</td>\n",
       "      <td>314</td>\n",
       "    </tr>\n",
       "    <tr>\n",
       "      <th>mean</th>\n",
       "      <td>27.915709</td>\n",
       "      <td>44.479818</td>\n",
       "      <td>2.159236</td>\n",
       "      <td>0.649682</td>\n",
       "      <td>431.028662</td>\n",
       "      <td>0.694268</td>\n",
       "      <td>0.742038</td>\n",
       "    </tr>\n",
       "    <tr>\n",
       "      <th>std</th>\n",
       "      <td>14.110146</td>\n",
       "      <td>57.997698</td>\n",
       "      <td>0.857290</td>\n",
       "      <td>1.022846</td>\n",
       "      <td>256.846324</td>\n",
       "      <td>1.156520</td>\n",
       "      <td>0.438211</td>\n",
       "    </tr>\n",
       "    <tr>\n",
       "      <th>min</th>\n",
       "      <td>0.750000</td>\n",
       "      <td>6.750000</td>\n",
       "      <td>1.000000</td>\n",
       "      <td>0.000000</td>\n",
       "      <td>2.000000</td>\n",
       "      <td>0.000000</td>\n",
       "      <td>False</td>\n",
       "    </tr>\n",
       "    <tr>\n",
       "      <th>25%</th>\n",
       "      <td>18.000000</td>\n",
       "      <td>12.071875</td>\n",
       "      <td>1.000000</td>\n",
       "      <td>0.000000</td>\n",
       "      <td>231.750000</td>\n",
       "      <td>0.000000</td>\n",
       "      <td>0</td>\n",
       "    </tr>\n",
       "    <tr>\n",
       "      <th>50%</th>\n",
       "      <td>27.000000</td>\n",
       "      <td>23.000000</td>\n",
       "      <td>2.000000</td>\n",
       "      <td>0.000000</td>\n",
       "      <td>414.500000</td>\n",
       "      <td>0.000000</td>\n",
       "      <td>1</td>\n",
       "    </tr>\n",
       "    <tr>\n",
       "      <th>75%</th>\n",
       "      <td>37.000000</td>\n",
       "      <td>55.000000</td>\n",
       "      <td>3.000000</td>\n",
       "      <td>1.000000</td>\n",
       "      <td>641.250000</td>\n",
       "      <td>1.000000</td>\n",
       "      <td>1</td>\n",
       "    </tr>\n",
       "    <tr>\n",
       "      <th>max</th>\n",
       "      <td>63.000000</td>\n",
       "      <td>512.329200</td>\n",
       "      <td>3.000000</td>\n",
       "      <td>6.000000</td>\n",
       "      <td>889.000000</td>\n",
       "      <td>8.000000</td>\n",
       "      <td>True</td>\n",
       "    </tr>\n",
       "    <tr>\n",
       "      <th rowspan=\"8\" valign=\"top\">male</th>\n",
       "      <th>count</th>\n",
       "      <td>453.000000</td>\n",
       "      <td>577.000000</td>\n",
       "      <td>577.000000</td>\n",
       "      <td>577.000000</td>\n",
       "      <td>577.000000</td>\n",
       "      <td>577.000000</td>\n",
       "      <td>577</td>\n",
       "    </tr>\n",
       "    <tr>\n",
       "      <th>mean</th>\n",
       "      <td>30.726645</td>\n",
       "      <td>25.523893</td>\n",
       "      <td>2.389948</td>\n",
       "      <td>0.235702</td>\n",
       "      <td>454.147314</td>\n",
       "      <td>0.429809</td>\n",
       "      <td>0.188908</td>\n",
       "    </tr>\n",
       "    <tr>\n",
       "      <th>std</th>\n",
       "      <td>14.678201</td>\n",
       "      <td>43.138263</td>\n",
       "      <td>0.813580</td>\n",
       "      <td>0.612294</td>\n",
       "      <td>257.486139</td>\n",
       "      <td>1.061811</td>\n",
       "      <td>0.391775</td>\n",
       "    </tr>\n",
       "    <tr>\n",
       "      <th>min</th>\n",
       "      <td>0.420000</td>\n",
       "      <td>0.000000</td>\n",
       "      <td>1.000000</td>\n",
       "      <td>0.000000</td>\n",
       "      <td>1.000000</td>\n",
       "      <td>0.000000</td>\n",
       "      <td>False</td>\n",
       "    </tr>\n",
       "    <tr>\n",
       "      <th>25%</th>\n",
       "      <td>21.000000</td>\n",
       "      <td>7.895800</td>\n",
       "      <td>2.000000</td>\n",
       "      <td>0.000000</td>\n",
       "      <td>222.000000</td>\n",
       "      <td>0.000000</td>\n",
       "      <td>0</td>\n",
       "    </tr>\n",
       "    <tr>\n",
       "      <th>50%</th>\n",
       "      <td>29.000000</td>\n",
       "      <td>10.500000</td>\n",
       "      <td>3.000000</td>\n",
       "      <td>0.000000</td>\n",
       "      <td>464.000000</td>\n",
       "      <td>0.000000</td>\n",
       "      <td>0</td>\n",
       "    </tr>\n",
       "    <tr>\n",
       "      <th>75%</th>\n",
       "      <td>39.000000</td>\n",
       "      <td>26.550000</td>\n",
       "      <td>3.000000</td>\n",
       "      <td>0.000000</td>\n",
       "      <td>680.000000</td>\n",
       "      <td>0.000000</td>\n",
       "      <td>0</td>\n",
       "    </tr>\n",
       "    <tr>\n",
       "      <th>max</th>\n",
       "      <td>80.000000</td>\n",
       "      <td>512.329200</td>\n",
       "      <td>3.000000</td>\n",
       "      <td>5.000000</td>\n",
       "      <td>891.000000</td>\n",
       "      <td>8.000000</td>\n",
       "      <td>True</td>\n",
       "    </tr>\n",
       "  </tbody>\n",
       "</table>\n",
       "</div>"
      ],
      "text/plain": [
       "                     Age        Fare      PClass       ParCh  PassengerId  \\\n",
       "Sex                                                                         \n",
       "female count  261.000000  314.000000  314.000000  314.000000   314.000000   \n",
       "       mean    27.915709   44.479818    2.159236    0.649682   431.028662   \n",
       "       std     14.110146   57.997698    0.857290    1.022846   256.846324   \n",
       "       min      0.750000    6.750000    1.000000    0.000000     2.000000   \n",
       "       25%     18.000000   12.071875    1.000000    0.000000   231.750000   \n",
       "       50%     27.000000   23.000000    2.000000    0.000000   414.500000   \n",
       "       75%     37.000000   55.000000    3.000000    1.000000   641.250000   \n",
       "       max     63.000000  512.329200    3.000000    6.000000   889.000000   \n",
       "male   count  453.000000  577.000000  577.000000  577.000000   577.000000   \n",
       "       mean    30.726645   25.523893    2.389948    0.235702   454.147314   \n",
       "       std     14.678201   43.138263    0.813580    0.612294   257.486139   \n",
       "       min      0.420000    0.000000    1.000000    0.000000     1.000000   \n",
       "       25%     21.000000    7.895800    2.000000    0.000000   222.000000   \n",
       "       50%     29.000000   10.500000    3.000000    0.000000   464.000000   \n",
       "       75%     39.000000   26.550000    3.000000    0.000000   680.000000   \n",
       "       max     80.000000  512.329200    3.000000    5.000000   891.000000   \n",
       "\n",
       "                   SibSp  Survived  \n",
       "Sex                                 \n",
       "female count  314.000000       314  \n",
       "       mean     0.694268  0.742038  \n",
       "       std      1.156520  0.438211  \n",
       "       min      0.000000     False  \n",
       "       25%      0.000000         0  \n",
       "       50%      0.000000         1  \n",
       "       75%      1.000000         1  \n",
       "       max      8.000000      True  \n",
       "male   count  577.000000       577  \n",
       "       mean     0.429809  0.188908  \n",
       "       std      1.061811  0.391775  \n",
       "       min      0.000000     False  \n",
       "       25%      0.000000         0  \n",
       "       50%      0.000000         0  \n",
       "       75%      0.000000         0  \n",
       "       max      8.000000      True  "
      ]
     },
     "execution_count": 13,
     "metadata": {},
     "output_type": "execute_result"
    }
   ],
   "source": [
    "passengers_by_sex = df.groupby(\"Sex\")\n",
    "passengers_by_sex.describe()"
   ]
  },
  {
   "cell_type": "code",
   "execution_count": 14,
   "metadata": {
    "collapsed": true
   },
   "outputs": [],
   "source": [
    "# function to write some text in a certain (x, y) point\n",
    "def label(xy, text, x_offset=.7, y_offset=0, size=18, rotation=\"horizontal\"):\n",
    "    x = xy[0] - x_offset\n",
    "    y = xy[1] - y_offset\n",
    "    plt.text(x, y, text, ha=\"center\", va=\"center\", family=\"sans-serif\", size=size, rotation=rotation)\n",
    "    \n",
    "# function that calculates the radius of a circle starting from the area\n",
    "def radius(area):\n",
    "    return np.sqrt(area/np.pi)\n",
    "\n",
    "# function that shows the difference between two numbers using two layered circles of different areas\n",
    "def bubble(total, part, title=\"\", desc_outer=\"\", desc_inner=\"\"):\n",
    "    grid = np.mgrid[0.1:2.0:2j, 0.1:2.0:1j].reshape(2, -1).T\n",
    "    fig, ax = plt.subplots(figsize=(3,3))\n",
    "    \n",
    "    r_outer = radius(1)\n",
    "    r_inner = radius(part / float(total))\n",
    "\n",
    "    # create the two circles \n",
    "    outer_circle = mpatches.Circle(grid[0], r_outer, color=\"r\")\n",
    "    position_inner = (grid[0][0], grid[0][1] - (r_outer - r_inner))   # calculate the position of the center of the inner circle\n",
    "    inner_circle = mpatches.Circle(position_inner, r_inner, color=\"g\")\n",
    "\n",
    "    ax.add_patch(outer_circle)        \n",
    "    ax.add_patch(inner_circle)\n",
    "\n",
    "    # add the title and the descriptions\n",
    "    label(grid[0], desc_outer, 0, -.64)\n",
    "    label(grid[0], desc_inner, 0, 0.64)\n",
    "    label(grid[0], title, size=24, rotation=\"vertical\")\n",
    "    \n",
    "    # remove the axis and show the result\n",
    "    plt.subplots_adjust(left=0, right=1, bottom=0, top=1)\n",
    "    plt.axis(\"equal\")\n",
    "    plt.axis(\"off\")\n",
    "    plt.show()"
   ]
  },
  {
   "cell_type": "markdown",
   "metadata": {},
   "source": [
    "Females survived in greatest number (74.2%), while males had a really low survival rate (18.9%), this strongly suggests that a *women and children first* policy was used when evacuating the passengers.\n",
    "\n",
    "The bubble charts below show the total ammount of passengers of each gender and the related *Survived* count."
   ]
  },
  {
   "cell_type": "code",
   "execution_count": 15,
   "metadata": {
    "collapsed": false
   },
   "outputs": [
    {
     "data": {
      "image/png": "[encoded data removed]",
      "text/plain": [
       "<matplotlib.figure.Figure at 0x7fc98bbbfd90>"
      ]
     },
     "metadata": {},
     "output_type": "display_data"
    },
    {
     "data": {
      "image/png": "[encoded data removed]",
      "text/plain": [
       "<matplotlib.figure.Figure at 0x7fc99d01cad0>"
      ]
     },
     "metadata": {},
     "output_type": "display_data"
    }
   ],
   "source": [
    "# group the passengers that survived by gender\n",
    "survived_by_sex = df.groupby(\"Sex\") \n",
    "\n",
    "# find the values and labels for the area circles\n",
    "total = survived_by_sex[\"Survived\"].count()\n",
    "survived = survived_by_sex[\"Survived\"].sum().astype(int)\n",
    "perished = (total - survived).astype(int)\n",
    "titles = [\"Female\", \"Male\"]\n",
    "outer_descriptions = [\"Not Survived \" + str(perished[\"female\"]), \"Not Survived: \" + str(perished[\"male\"])]\n",
    "inner_descriptions = [\"Survived \" + str(survived[\"female\"]), \"Survived: \" + str(survived[\"male\"])]\n",
    "\n",
    "# show the difference using bubble charts\n",
    "bubble(total[0], survived[0], titles[0], outer_descriptions[0], inner_descriptions[0])\n",
    "bubble(total[1], survived[1], titles[1], outer_descriptions[1], inner_descriptions[1])"
   ]
  },
  {
   "cell_type": "markdown",
   "metadata": {},
   "source": [
    "####  Is there a particular age range that tended to survive most?\n",
    "From the following histogram it can be noticed that the passengers that tended to survive more were the ones between 20 to 35 years old. That age range was also the one that was present in biggest number, so that could be the reason for them to survive more. To prove that it wasn't  due to this reason a correlation test could be done."
   ]
  },
  {
   "cell_type": "code",
   "execution_count": 16,
   "metadata": {
    "collapsed": false
   },
   "outputs": [
    {
     "data": {
      "image/png": "[encoded data removed]",
      "text/plain": [
       "<matplotlib.figure.Figure at 0x7fc98bbbf9d0>"
      ]
     },
     "metadata": {},
     "output_type": "display_data"
    }
   ],
   "source": [
    "plt.figure(figsize=(10, 5))\n",
    "\n",
    "# histogram containing ages from all the passengers\n",
    "known_age_passengers[\"Age\"].hist(bins=20, color=\"r\", label=\"Not Survived\")\n",
    "# histogram containing ages from the survived passengers\n",
    "known_age_passengers[\"Age\"][known_age_passengers[\"Survived\"]].hist(bins=20, color=\"g\", label=\"Survived\")\n",
    "\n",
    "plt.legend(prop={\"size\":15})\n",
    "plt.show()"
   ]
  },
  {
   "cell_type": "markdown",
   "metadata": {},
   "source": [
    "The correlation test shows indeed that there's no correlation between survival and age in this particular case."
   ]
  },
  {
   "cell_type": "code",
   "execution_count": 17,
   "metadata": {
    "collapsed": false
   },
   "outputs": [
    {
     "data": {
      "text/plain": [
       "-0.0771129417786591"
      ]
     },
     "execution_count": 17,
     "metadata": {},
     "output_type": "execute_result"
    }
   ],
   "source": [
    "# distance of each value from the mean in standard units\n",
    "age_diff = (known_age_passengers[\"Age\"] - known_age_passengers[\"Age\"].mean()) / known_age_passengers[\"Age\"].std()\n",
    "survived_diff = (known_age_passengers[\"Survived\"] - known_age_passengers[\"Survived\"].mean()) / known_age_passengers[\"Survived\"].std()\n",
    "\n",
    "# Pearson's r\n",
    "(age_diff * survived_diff).mean()"
   ]
  },
  {
   "cell_type": "markdown",
   "metadata": {},
   "source": [
    "#### How did survival rate change across different decks of the ship?\n",
    "Passengers had cabins assigned between decks A and G, but there's also one passenger that was staying in the Boat Deck, and this person was most likely part of the crew working on that deck, since that deck had cabins just for crew members. The Boat Deck was the highest deck and it was also the one from which lifeboats could be launched."
   ]
  },
  {
   "cell_type": "code",
   "execution_count": 18,
   "metadata": {
    "collapsed": true
   },
   "outputs": [],
   "source": [
    "def polar_chart(heights, labels, colors):\n",
    "    plt.figure(figsize=(10, 10))\n",
    "    ax = plt.subplot(polar=True)\n",
    "    \n",
    "    # calculate the width and starting position of each bar\n",
    "    width = (heights[0] / float(heights[0].sum())) * (2* np.pi)\n",
    "    theta = np.array([0.0]*len(width))\n",
    "    for i in range(len(width)-1):\n",
    "        theta[i+1] = theta[i] + width[i]\n",
    "    \n",
    "    # create the background bar and the border containing the labels\n",
    "    ax.bar(theta, [heights[0].max() +20]*len(heights[0]), width=width, color=\"black\", alpha=.5)\n",
    "    ax.bar(theta, [heights[0].max() + 5]*len(heights[0]), width=width, color=\"w\", alpha=.5)\n",
    "    \n",
    "    # create the bars\n",
    "    for i in range(len(heights)):\n",
    "        ax.bar(theta, heights[i], width=width, label=labels[i], color=colors[i])\n",
    "        \n",
    "    # add the labels\n",
    "    for i in range(len(width)):\n",
    "        x = theta[i] + width[i]/2.0\n",
    "        y = heights[0].max() + 12\n",
    "        text = heights[0].index[i] + \"\\n\" + str(heights[1][i] / float(heights[0][i]))[1:4]\n",
    "        r = 360 * x / (theta[-1]+width[-1]) - 90\n",
    "        ax.text(x, y, text, ha=\"center\", va=\"center\", size=20, rotation=r, fontweight='bold')\n",
    "    \n",
    "    # attach the legend, remove the axis and show the result\n",
    "    ax.legend(bbox_to_anchor=(1.05, 1), loc = 2, prop={\"size\":15})\n",
    "    plt.axis(\"off\")\n",
    "    plt.show()"
   ]
  },
  {
   "cell_type": "code",
   "execution_count": 19,
   "metadata": {
    "collapsed": false
   },
   "outputs": [
    {
     "data": {
      "image/png": "[encoded data removed]",
      "text/plain": [
       "<matplotlib.figure.Figure at 0x7fc98b7a2a90>"
      ]
     },
     "metadata": {},
     "output_type": "display_data"
    }
   ],
   "source": [
    "passengers_by_deck = known_cabin_passengers.groupby(\"Deck\")\n",
    "\n",
    "# total number of passengers grouped by deck \n",
    "total_deck = passengers_by_deck.count()[\"Survived\"]\n",
    "# number of survived passengers grouped by deck\n",
    "survived_deck = passengers_by_deck.sum()[\"Survived\"]\n",
    "\n",
    "polar_chart([total_deck, survived_deck], [\"Not Survived\", \"Survived\"], [\"r\", \"g\"])"
   ]
  },
  {
   "cell_type": "markdown",
   "metadata": {},
   "source": [
    "The above chart has slices representing the number of passengers on a deck as radius, the proportion between that number and the total number of passengers on the ship (passengers that have a *Deck*) as width of the slices and each slice is split in two parts showing the number of passengers survived and passengers who didn't survive. Below the deck names there's labels indicating the ratio of passengers survived on that deck. \n",
    "\n",
    "It can be noticed that the majority of the passengers had cabins on deck C and B, and most decks have a survival rate above .50, even though just 31.9% passengers survived (710 out of 2224). The problem here is that we have information about assigned cabins of a really small part of the whole population, and this information is not even random, since most of it comes from the incomplete first class passenger list recovered with the body of steward Herbert Cave. This data is then not reliable and can't be used to answer this question.\n",
    "\n",
    "If I'm allowed to speculate, with a random sample I would have expected to see more people on lower decks being 3rd class passengers, and I would have expected them to have a lower survival rate since they were farther away from the lifeboats and by the time they would have got there could have been no lifeboat left."
   ]
  },
  {
   "cell_type": "markdown",
   "metadata": {},
   "source": [
    "## Conclusion\n",
    "\n",
    "#### Limitations\n",
    "While using the Titanic dataset I found several limitations that made making deeper analysis more difficult and in some cases unreliable. \n",
    "\n",
    "The first limitation was the missing values, in the first two questions fortunately I was able to use the entire dataset because there was no missing values. However for the *Age* and *Cabin* columns there was respectively 177 and 687 values missing, in the first case it made the analysis about the relationship between *Age* and survival unreliable, because I don't know if those missing numbers are random or if it's a certain group of people that if counted could change the result of the analysis; while on the second case since most of the values were missing and the values missing were mostly data from 2nd and 3rd class passengers (the source for most of the cabin locations was an incomplete 1st class list), it made the analysis of that column unreliable and probably useless.\n",
    "\n",
    "Also many passengers had more than one *Cabin* assigned, and  I'm not sure if that's because those passengers paid to get more cabins, they changed cabin during the journey or because it's not sure which of those cabins they had. When exploring that column I assumed that they paid for more than one cabin, but in case I'm wrong that would also compromise my analysis. \n",
    "\n",
    "Another thing, it would be nice to have some more variables. For example if everyone had a *Cabin* it would have been really interesting to also have the lifeboat number for each survived passenger. Then with another dataset containing information about the lifeboats like number, capacity and order of launch, it would be possible to calculate who got to the first lifeboat and who got to the last, and then we could get an idea of how passengers tended to move to evacuate the ship.\n",
    "#### Summary\n",
    "The major findings of this analysis are the following:\n",
    "\n",
    "- Passengers travelling in 1st class tended to survive most (.63) while 3rd class passengers survived the least (.24), even though 3rd class passengers were present in biggest number (491).\n",
    "\n",
    "- Females (74.2%) had a way higher rate of survival than males (18.9%).\n",
    "\n",
    "- Passsengers with age between 20 and 35 tended to survive the most, but that's because they were present in biggest number, there's no actual relationship between age and survival rate.\n",
    "\n",
    "- Data about *Decks* and *Cabins* is unreliable, therefore I can make no conclusion about it. "
   ]
  },
  {
   "cell_type": "markdown",
   "metadata": {
    "collapsed": true
   },
   "source": [
    "## Sources\n",
    "- [Useful Pandas Snippets](https://gist.github.com/bsweger/e5817488d161f37dcbd2)\n",
    "- [Splitting rows on DataFrames](http://stackoverflow.com/questions/17116814/pandas-how-do-i-split-text-in-a-column-into-multiple-rows)\n",
    "- [Matplotlib shapes and collections](http://matplotlib.org/examples/shapes_and_collections/artist_reference.html)\n",
    "- [Matplotlib polarbar](http://matplotlib.org/examples/pie_and_polar_charts/polar_bar_demo.html)\n",
    "- [Matplot polar labeling](http://stackoverflow.com/questions/24020202/python-matplotlib-polar-labeling)\n",
    "- [Titanic Deckplans](http://www.encyclopedia-titanica.org/titanic-deckplans)\n",
    "- [Cabin Allocations](http://www.encyclopedia-titanica.org/cabins.html)"
   ]
  }
 ],
 "metadata": {
  "kernelspec": {
   "display_name": "Python 2",
   "language": "python",
   "name": "python2"
  },
  "language_info": {
   "codemirror_mode": {
    "name": "ipython",
    "version": 2
   },
   "file_extension": ".py",
   "mimetype": "text/x-python",
   "name": "python",
   "nbconvert_exporter": "python",
   "pygments_lexer": "ipython2",
   "version": "2.7.9"
  }
 },
 "nbformat": 4,
 "nbformat_minor": 0
}
